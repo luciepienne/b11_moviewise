{
 "cells": [
  {
   "cell_type": "code",
   "execution_count": 1,
   "id": "f142de1f-78e9-4748-828d-1577cf0ff589",
   "metadata": {},
   "outputs": [],
   "source": [
    "from final.cleaning import import_dataset, clean_whole_df, filter_df, clean_test_df, mongo_connect\n",
    "from final.model_processing import partition, run_model\n",
    "from final.dashboard import rate\n",
    "import mlflow"
   ]
  },
  {
   "cell_type": "code",
   "execution_count": 2,
   "id": "47ee5e5c-1708-46c6-9870-0cf48321bd5c",
   "metadata": {},
   "outputs": [],
   "source": [
    "host = 'localhost'\n",
    "port = 27017\n",
    "db_name = 'Movielens'\n",
    "\n",
    "mongo_connect(host, port, db_name)\n",
    "\n",
    "df = import_dataset(host, port, db_name)\n",
    "cleaned_df = clean_whole_df(df)"
   ]
  },
  {
   "cell_type": "code",
   "execution_count": 3,
   "id": "7d65dbd6-c24c-4781-aadb-f42c2e188dc8",
   "metadata": {},
   "outputs": [],
   "source": [
    "x = 10\n",
    "y = 800\n",
    "input_data = 'df_train'  #change if the split  of the data is on time => in line 7 it is defined\n",
    "split = 'split random' # 'split time'\n",
    "base_type = 'train base' # "
   ]
  },
  {
   "cell_type": "code",
   "execution_count": 4,
   "id": "a89eb51d-43da-4a48-8873-d60bffebe4e5",
   "metadata": {},
   "outputs": [
    {
     "name": "stdout",
     "output_type": "stream",
     "text": [
      "Nombre de ratings par utilisateur :\n",
      "count    6040.000000\n",
      "mean      163.412417\n",
      "std       188.350206\n",
      "min        16.000000\n",
      "25%        44.000000\n",
      "50%        95.000000\n",
      "75%       204.000000\n",
      "max      1999.000000\n",
      "Name: count, dtype: float64\n",
      "\n",
      "\n",
      "CPU times: user 621 ms, sys: 88.7 ms, total: 709 ms\n",
      "Wall time: 691 ms\n"
     ]
    }
   ],
   "source": [
    "%%time\n",
    "\n",
    "filtering_opts = {\n",
    "    \"min_mean_rating\": 1.5,\n",
    "    \"max_mean_rating\": 4.5,\n",
    "    \"movies_threshold\": 35,\n",
    "    \"movies_few_notes\": True,\n",
    "    \"users_threshold\": 45,\n",
    "    \"users_few_notes\": True,\n",
    "    \"users_no_discriminating\": True,\n",
    "    \"users_constant_dt\": True,\n",
    "}\n",
    "\n",
    "filtered_df = filter_df(cleaned_df, **filtering_opts)"
   ]
  },
  {
   "cell_type": "code",
   "execution_count": 5,
   "id": "15237e08-2ae1-44c1-9868-10507d3ac467",
   "metadata": {},
   "outputs": [
    {
     "data": {
      "text/plain": [
       "((42251, 4), (169007, 4))"
      ]
     },
     "execution_count": 5,
     "metadata": {},
     "output_type": "execute_result"
    }
   ],
   "source": [
    "partition_opts = {\"test_size\": 0.8, \"mini_size\": 0.03}\n",
    "\n",
    "train_df, test_df, train_mini, test_mini = partition(filtered_df, partition_opts)\n",
    "train_df.shape, test_df.shape"
   ]
  },
  {
   "cell_type": "code",
   "execution_count": 6,
   "id": "e0a638b2-f6cd-4811-b1d0-b38b6f05d7c7",
   "metadata": {},
   "outputs": [
    {
     "data": {
      "text/plain": [
       "(NMF(max_iter=800, n_components=10), (10714678, 3))"
      ]
     },
     "execution_count": 6,
     "metadata": {},
     "output_type": "execute_result"
    }
   ],
   "source": [
    "opts = {\n",
    "    \"n_components\": x,\n",
    "    \"max_iter\": y,\n",
    "    \"normalize\": {\"should\": True, \"min\": 1, \"max\": 5},\n",
    "}\n",
    "\n",
    "model, predict_matrix = run_model(train_df, opts)\n",
    "model, predict_matrix.shape"
   ]
  },
  {
   "cell_type": "code",
   "execution_count": 7,
   "id": "84059bdb-fd35-4180-9e67-f871930b8fd4",
   "metadata": {},
   "outputs": [],
   "source": [
    "cleaned_test_df = clean_test_df(train_df,test_df)"
   ]
  },
  {
   "cell_type": "code",
   "execution_count": 8,
   "id": "5dfd56ed-5c94-455f-beb5-d1c357e282b0",
   "metadata": {},
   "outputs": [
    {
     "name": "stdout",
     "output_type": "stream",
     "text": [
      "CPU times: user 2.39 s, sys: 369 ms, total: 2.76 s\n",
      "Wall time: 1.82 s\n"
     ]
    },
    {
     "data": {
      "text/plain": [
       "([7.367767735434177,\n",
       "  1.3322378477529808,\n",
       "  1.6647814124121063,\n",
       "  0.9699745173750138],\n",
       " [7.292930594959254,\n",
       "  1.2952542684046264,\n",
       "  1.6948779144483201,\n",
       "  0.9737218527657426])"
      ]
     },
     "execution_count": 8,
     "metadata": {},
     "output_type": "execute_result"
    }
   ],
   "source": [
    "%%time\n",
    "\n",
    "options = {\n",
    "    \"mse\": True,\n",
    "    \"top_10\": True,\n",
    "    \"bottom_10\": True,\n",
    "    \"ndcg\" : True\n",
    "}\n",
    "\n",
    "rating_train = rate(predict_matrix, train_df, options)\n",
    "rating_test = rate(predict_matrix, cleaned_test_df, options)\n",
    "rating_train_mse, rating_train_top_10, rating_train_bottom_10, rating_train_ndcg  = rating_train\n",
    "rating_test_mse, rating_test_top_10, rating_test_bottom_10, rating_test_ndcg  = rating_test\n",
    "rating_train, rating_test\n"
   ]
  },
  {
   "cell_type": "code",
   "execution_count": 9,
   "id": "3b307be6-e8b1-4e45-be53-2ad3b8871d62",
   "metadata": {},
   "outputs": [
    {
     "data": {
      "text/plain": [
       "<Experiment: artifact_location='mlflow-artifacts:/515938476354317348', creation_time=1708096681051, experiment_id='515938476354317348', last_update_time=1708096681051, lifecycle_stage='active', name='reco_movies_analyses', tags={}>"
      ]
     },
     "execution_count": 9,
     "metadata": {},
     "output_type": "execute_result"
    }
   ],
   "source": [
    "mlflow.set_tracking_uri(uri=\"http://127.0.0.1:5000\")\n",
    "mlflow.set_experiment(\"reco_movies_analyses\")"
   ]
  },
  {
   "cell_type": "code",
   "execution_count": 10,
   "id": "4f286e7b-b44c-4ffe-accd-ea6158a6177e",
   "metadata": {},
   "outputs": [
    {
     "name": "stderr",
     "output_type": "stream",
     "text": [
      "2024/02/19 12:09:43 WARNING mlflow.models.signature: Failed to infer the model signature from the input example. Reason: AttributeError(\"'NMF' object has no attribute 'predict'\"). To see the full traceback, set the logging level to DEBUG via `logging.getLogger(\"mlflow\").setLevel(logging.DEBUG)`. To disable automatic signature inference, set `signature` to `False` in your `log_model` or `save_model` call.\n",
      "2024/02/19 12:09:43 WARNING mlflow.sklearn: Model was missing function: predict. Not logging python_function flavor!\n",
      "/home/lucie/miniconda3/envs/my_env/lib/python3.11/site-packages/_distutils_hack/__init__.py:33: UserWarning: Setuptools is replacing distutils.\n",
      "  warnings.warn(\"Setuptools is replacing distutils.\")\n",
      "Successfully registered model 'NMF on train base datas base split random, 10 components and 800 iteration max '.\n",
      "2024/02/19 12:09:45 INFO mlflow.store.model_registry.abstract_store: Waiting up to 300 seconds for model version to finish creation. Model name: NMF on train base datas base split random, 10 components and 800 iteration max , version 1\n",
      "Created version '1' of model 'NMF on train base datas base split random, 10 components and 800 iteration max '.\n"
     ]
    }
   ],
   "source": [
    "# Start an MLflow run\n",
    "with mlflow.start_run():\n",
    "    # Log the hyperparameters\n",
    "    params = {\n",
    "    'n_components' : x,\n",
    "    'max_iter' : y\n",
    "}\n",
    "    mlflow.log_params(params)\n",
    "\n",
    "    # Log the loss metric\n",
    "    mlflow.log_metric(\"mse_test\", rating_test_mse),\n",
    "    mlflow.log_metric(\"top_10_test\", rating_test_top_10),\n",
    "    mlflow.log_metric(\"worse_10_test\", rating_test_bottom_10),\n",
    "    mlflow.log_metric(\"ndcg_test\", rating_test_ndcg),\n",
    "    mlflow.log_metric(\"mse_train\", rating_train_mse),\n",
    "    mlflow.log_metric(\"top_10_train\", rating_train_top_10),\n",
    "    mlflow.log_metric(\"worse_10_train\", rating_train_bottom_10),\n",
    "    mlflow.log_metric(\"ndcg_train\", rating_train_ndcg)\n",
    "    # mlflow.log_metric(\"indicators_test\", rating_test),\n",
    "    # mlflow.log_metric(\"indicators_test\", rating_train)\n",
    "\n",
    "    # Set a tag that we can use to remind ourselves what this run was for\n",
    "    mlflow.set_tag(f\"{split} \", f\"components {x}, iteration {y} \")\n",
    "\n",
    "    # Log the model\n",
    "    model_info = mlflow.sklearn.log_model(\n",
    "        sk_model=model,\n",
    "        artifact_path=\"NMF_Model\",\n",
    "        signature=None,\n",
    "        input_example= input_data,\n",
    "        registered_model_name=f\"NMF on {base_type} datas base {split}, {x} components and {y} iteration max \",\n",
    "    )"
   ]
  },
  {
   "cell_type": "code",
   "execution_count": null,
   "id": "de4aa834-bde1-4cc0-8422-a2c34da9c6fa",
   "metadata": {},
   "outputs": [],
   "source": []
  }
 ],
 "metadata": {
  "kernelspec": {
   "display_name": "Python 3 (ipykernel)",
   "language": "python",
   "name": "python3"
  },
  "language_info": {
   "codemirror_mode": {
    "name": "ipython",
    "version": 3
   },
   "file_extension": ".py",
   "mimetype": "text/x-python",
   "name": "python",
   "nbconvert_exporter": "python",
   "pygments_lexer": "ipython3",
   "version": "3.11.7"
  }
 },
 "nbformat": 4,
 "nbformat_minor": 5
}
